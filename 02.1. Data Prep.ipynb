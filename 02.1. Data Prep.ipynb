{
 "cells": [
  {
   "cell_type": "code",
   "execution_count": 1,
   "id": "70f3e681-de6c-4afe-8279-e1abeb964364",
   "metadata": {},
   "outputs": [],
   "source": [
    "# ! pip install PyMuPDF"
   ]
  },
  {
   "cell_type": "code",
   "execution_count": 2,
   "id": "f46341d9-5a5e-4984-80b6-7cc3ead5c0f5",
   "metadata": {},
   "outputs": [],
   "source": [
    "import pandas as pd\n",
    "import fitz  # PyMuPDF"
   ]
  },
  {
   "cell_type": "code",
   "execution_count": 2,
   "id": "1e3c4d36-1301-430f-8b69-753d9ab26037",
   "metadata": {},
   "outputs": [],
   "source": [
    "# helper function to read pdf and return text\n",
    "def read_pdf(file_path):\n",
    "    doc = fitz.open(file_path)\n",
    "    text = \"\"\n",
    "    for page in doc:\n",
    "        text += page.get_text()\n",
    "    return text\n"
   ]
  },
  {
   "cell_type": "code",
   "execution_count": 3,
   "id": "7b965e0f-2874-4757-ba0e-b4a78e936b9a",
   "metadata": {},
   "outputs": [],
   "source": [
    "# reading the pdf file\n",
    "pdf_text = read_pdf(\"./data/qcnotes_revised.pdf\")  # replace with your actual file path"
   ]
  },
  {
   "cell_type": "code",
   "execution_count": 4,
   "id": "1c979863-5f66-4c61-a2fa-8b0e2e771a33",
   "metadata": {},
   "outputs": [],
   "source": [
    "# saving the file in .txt format\n",
    "with open(\"./data/qcnotes_revised.txt\", \"w\", encoding=\"utf-8\") as f:\n",
    "    f.write(pdf_text)"
   ]
  },
  {
   "cell_type": "code",
   "execution_count": null,
   "id": "beec590c-0bc7-42a6-aa12-25ea164c4822",
   "metadata": {},
   "outputs": [],
   "source": []
  },
  {
   "cell_type": "code",
   "execution_count": null,
   "id": "2145f127-6d11-4974-a5fd-fa03360ab9f5",
   "metadata": {},
   "outputs": [],
   "source": []
  }
 ],
 "metadata": {
  "kernelspec": {
   "display_name": "llm_env1",
   "language": "python",
   "name": "llm_env1"
  },
  "language_info": {
   "codemirror_mode": {
    "name": "ipython",
    "version": 3
   },
   "file_extension": ".py",
   "mimetype": "text/x-python",
   "name": "python",
   "nbconvert_exporter": "python",
   "pygments_lexer": "ipython3",
   "version": "3.11.7"
  }
 },
 "nbformat": 4,
 "nbformat_minor": 5
}
